{
 "cells": [
  {
   "cell_type": "code",
   "execution_count": 6,
   "id": "b1af78ca",
   "metadata": {},
   "outputs": [
    {
     "data": {
      "text/plain": [
       "28"
      ]
     },
     "execution_count": 6,
     "metadata": {},
     "output_type": "execute_result"
    }
   ],
   "source": [
    "# import the random module (6.1.4)\n",
    "import random\n",
    "\n",
    "random.randint(-90, 90)\n"
   ]
  },
  {
   "cell_type": "code",
   "execution_count": 7,
   "id": "571da57a",
   "metadata": {},
   "outputs": [
    {
     "data": {
      "text/plain": [
       "0.7101641290974054"
      ]
     },
     "execution_count": 7,
     "metadata": {},
     "output_type": "execute_result"
    }
   ],
   "source": [
    "random.random()"
   ]
  },
  {
   "cell_type": "code",
   "execution_count": 11,
   "id": "51f31cb9",
   "metadata": {},
   "outputs": [
    {
     "data": {
      "text/plain": [
       "-63.2504986941232"
      ]
     },
     "execution_count": 11,
     "metadata": {},
     "output_type": "execute_result"
    }
   ],
   "source": [
    "random_number = random.randint(-90, 89) + random.random()\n",
    "random_number"
   ]
  },
  {
   "cell_type": "code",
   "execution_count": 16,
   "id": "3ee6dc36",
   "metadata": {},
   "outputs": [
    {
     "data": {
      "text/plain": [
       "[75.18300845271997,\n",
       " -22.618930386853954,\n",
       " -38.81122654679998,\n",
       " 44.53371888782573,\n",
       " -75.10216892604426,\n",
       " 87.05983965284673,\n",
       " 16.121354670262388,\n",
       " -22.346484952662927,\n",
       " 57.837812014114284,\n",
       " 70.41463873676148]"
      ]
     },
     "execution_count": 16,
     "metadata": {},
     "output_type": "execute_result"
    }
   ],
   "source": [
    "x = 1\n",
    "latitudes = []\n",
    "while x < 11:\n",
    "    random_lat = random.randint(-90, 89) + random.random()\n",
    "    latitudes.append(random_lat)\n",
    "    x += 1\n",
    "latitudes\n",
    "\n",
    "    "
   ]
  },
  {
   "cell_type": "code",
   "execution_count": 20,
   "id": "c8bd1101",
   "metadata": {},
   "outputs": [
    {
     "data": {
      "text/plain": [
       "-33"
      ]
     },
     "execution_count": 20,
     "metadata": {},
     "output_type": "execute_result"
    }
   ],
   "source": [
    "random.randrange(-90, 90, step = 1)\n"
   ]
  },
  {
   "cell_type": "code",
   "execution_count": 21,
   "id": "3ba92fff",
   "metadata": {},
   "outputs": [
    {
     "data": {
      "text/plain": [
       "30"
      ]
     },
     "execution_count": 21,
     "metadata": {},
     "output_type": "execute_result"
    }
   ],
   "source": [
    "random.randrange(-90, 90, step = 3)"
   ]
  },
  {
   "cell_type": "code",
   "execution_count": 22,
   "id": "4528fa66",
   "metadata": {},
   "outputs": [
    {
     "data": {
      "text/plain": [
       "-8.466840301614184"
      ]
     },
     "execution_count": 22,
     "metadata": {},
     "output_type": "execute_result"
    }
   ],
   "source": [
    "random.uniform(-90, 90)"
   ]
  },
  {
   "cell_type": "code",
   "execution_count": 23,
   "id": "d54df447",
   "metadata": {},
   "outputs": [
    {
     "data": {
      "text/plain": [
       "-37.48392830829711"
      ]
     },
     "execution_count": 23,
     "metadata": {},
     "output_type": "execute_result"
    }
   ],
   "source": [
    "# Import the NumPy module\n",
    "import numpy as np\n",
    "np.random.uniform(-90.000, 90.000)"
   ]
  },
  {
   "cell_type": "code",
   "execution_count": 25,
   "id": "cb176740",
   "metadata": {},
   "outputs": [
    {
     "data": {
      "text/plain": [
       "90.0"
      ]
     },
     "execution_count": 25,
     "metadata": {},
     "output_type": "execute_result"
    }
   ],
   "source": [
    "np.random.uniform(low=90, high=90)"
   ]
  },
  {
   "cell_type": "code",
   "execution_count": 26,
   "id": "265cc19a",
   "metadata": {},
   "outputs": [
    {
     "data": {
      "text/plain": [
       "array([ 43.70112547, -61.585579  ,   0.96425198,   7.83869993,\n",
       "        59.2059688 , -54.30546025,  50.60216889, -57.77461826,\n",
       "        66.04403239,  66.98345429, -12.18550271, -65.37339263,\n",
       "       -63.29968986, -47.6943105 ,  60.39984559,  14.74939762,\n",
       "       -18.97114321, -46.81756121, -80.27969344, -17.09937103,\n",
       "        79.71417243,  -4.25156611,  22.04628894,  61.50719263,\n",
       "       -85.80278561,   4.17514551,  39.22788316,  50.87792159,\n",
       "        80.4857898 , -62.07336435, -15.10697956,   3.58429441,\n",
       "        56.29674804,  26.47890624, -55.05966032,  40.04842475,\n",
       "       -79.6697351 , -43.35157552,  18.12707303,  -6.58433097,\n",
       "        66.19511443,  87.15818001, -39.4053312 , -30.07260628,\n",
       "        17.33648232,  50.78166938,  35.20878042,  51.59420384,\n",
       "       -35.60340322, -15.13249711])"
      ]
     },
     "execution_count": 26,
     "metadata": {},
     "output_type": "execute_result"
    }
   ],
   "source": [
    "np.random.uniform(-90.000, 90.000, size=50)"
   ]
  },
  {
   "cell_type": "code",
   "execution_count": 27,
   "id": "bd1a42ff",
   "metadata": {},
   "outputs": [
    {
     "name": "stdout",
     "output_type": "stream",
     "text": [
      "11.9 µs ± 553 ns per loop (mean ± std. dev. of 7 runs, 100000 loops each)\n"
     ]
    }
   ],
   "source": [
    "# Import timeit.\n",
    "import timeit\n",
    "np.random.uniform(-90.000, 90.000, size=1500)\n",
    "%timeit np.random.uniform(-90.000, 90.000, size=1500)"
   ]
  },
  {
   "cell_type": "code",
   "execution_count": 28,
   "id": "b227c826",
   "metadata": {},
   "outputs": [
    {
     "name": "stdout",
     "output_type": "stream",
     "text": [
      "1.24 ms ± 72.9 µs per loop (mean ± std. dev. of 7 runs, 1000 loops each)\n"
     ]
    }
   ],
   "source": [
    "def latitudes(size):\n",
    "    latitudes = []\n",
    "    x = 0\n",
    "    while x < (size):\n",
    "        random_lat = random.randint(-90, 90) + random.random()\n",
    "        latitudes.append(random_lat)\n",
    "        x += 1\n",
    "    return latitudes\n",
    "# Call the function with 1500.\n",
    "%timeit latitudes(1500)"
   ]
  },
  {
   "cell_type": "code",
   "execution_count": null,
   "id": "97100358",
   "metadata": {},
   "outputs": [],
   "source": []
  }
 ],
 "metadata": {
  "kernelspec": {
   "display_name": "PythonData",
   "language": "python",
   "name": "pythondata"
  },
  "language_info": {
   "codemirror_mode": {
    "name": "ipython",
    "version": 3
   },
   "file_extension": ".py",
   "mimetype": "text/x-python",
   "name": "python",
   "nbconvert_exporter": "python",
   "pygments_lexer": "ipython3",
   "version": "3.9.7"
  }
 },
 "nbformat": 4,
 "nbformat_minor": 5
}
